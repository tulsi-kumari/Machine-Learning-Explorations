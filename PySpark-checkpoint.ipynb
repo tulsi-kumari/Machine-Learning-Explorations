{
 "cells": [
  {
   "cell_type": "markdown",
   "id": "45fa9ee9-ea0d-4bc4-b646-0a3e1cb64bcc",
   "metadata": {},
   "source": [
    "We can do any type of linear regression problem by using pyspark"
   ]
  },
  {
   "cell_type": "code",
   "execution_count": null,
   "id": "68503987-b47d-4751-9381-61dd2315f397",
   "metadata": {},
   "outputs": [],
   "source": []
  }
 ],
 "metadata": {
  "kernelspec": {
   "display_name": "Python 3 (ipykernel)",
   "language": "python",
   "name": "python3"
  },
  "language_info": {
   "codemirror_mode": {
    "name": "ipython",
    "version": 3
   },
   "file_extension": ".py",
   "mimetype": "text/x-python",
   "name": "python",
   "nbconvert_exporter": "python",
   "pygments_lexer": "ipython3",
   "version": "3.11.3"
  },
  "widgets": {
   "application/vnd.jupyter.widget-state+json": {
    "state": {},
    "version_major": 2,
    "version_minor": 0
   }
  }
 },
 "nbformat": 4,
 "nbformat_minor": 5
}
