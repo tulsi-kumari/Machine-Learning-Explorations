{
 "cells": [
  {
   "cell_type": "markdown",
   "id": "717ea8ae-ec98-4d0b-bba4-e11f80545d8d",
   "metadata": {},
   "source": [
    "List Comprehension provides a concise way to create list.It consists of a square bracket containing an expression followed by a for clause and then zero or more for or if clauses.The expression can be anything that is we can put it in all kinds of objects in the list.\n",
    "Fie=rst expression inside the bracket would be what all i want to return (i*i)"
   ]
  },
  {
   "cell_type": "code",
   "execution_count": 1,
   "id": "c58ac1c0-a89b-4fc1-aec5-1c541cc99653",
   "metadata": {},
   "outputs": [],
   "source": [
    "lst=[1,2,3,4,5,6,7,8,9,10]"
   ]
  },
  {
   "cell_type": "code",
   "execution_count": 2,
   "id": "a5f19088-4eb8-4b62-910f-241ff793a3e8",
   "metadata": {},
   "outputs": [],
   "source": [
    "lst1=[]\n",
    "def squaredlist(lis):\n",
    "    for i in lis :\n",
    "        lst1.append(i*i)\n",
    "    return lst1"
   ]
  },
  {
   "cell_type": "code",
   "execution_count": 3,
   "id": "f42bd2b7-3f75-4ce5-bad7-e453828fec53",
   "metadata": {},
   "outputs": [
    {
     "data": {
      "text/plain": [
       "[1, 4, 9, 16, 25, 36, 49, 64, 81, 100]"
      ]
     },
     "execution_count": 3,
     "metadata": {},
     "output_type": "execute_result"
    }
   ],
   "source": [
    "squaredlist(lst)"
   ]
  },
  {
   "cell_type": "markdown",
   "id": "c92a569a-4ccc-4914-bd34-de8ead77741d",
   "metadata": {},
   "source": [
    "Complexity is more,now we will convert the same code using list comprehension"
   ]
  },
  {
   "cell_type": "code",
   "execution_count": 4,
   "id": "2f9fd04f-954d-4900-8d42-37b63c0cb378",
   "metadata": {},
   "outputs": [
    {
     "data": {
      "text/plain": [
       "[1, 4, 9, 16, 25, 36, 49, 64, 81, 100]"
      ]
     },
     "execution_count": 4,
     "metadata": {},
     "output_type": "execute_result"
    }
   ],
   "source": [
    "[i*i for i in lst]"
   ]
  },
  {
   "cell_type": "code",
   "execution_count": 5,
   "id": "4906006b-b8bf-4f11-b25a-062eed2afb26",
   "metadata": {},
   "outputs": [],
   "source": [
    "lst2=[i*i for i in lst]"
   ]
  },
  {
   "cell_type": "code",
   "execution_count": 6,
   "id": "f8033362-3594-4d76-917b-ee51ce3ee516",
   "metadata": {},
   "outputs": [
    {
     "data": {
      "text/plain": [
       "[1, 4, 9, 16, 25, 36, 49, 64, 81, 100]"
      ]
     },
     "execution_count": 6,
     "metadata": {},
     "output_type": "execute_result"
    }
   ],
   "source": [
    "lst2"
   ]
  },
  {
   "cell_type": "markdown",
   "id": "859cbaa0-3c71-465e-84ad-105c55b7bc6d",
   "metadata": {},
   "source": [
    "now we want a new list containing sqaures of only those numbers that are even"
   ]
  },
  {
   "cell_type": "code",
   "execution_count": 7,
   "id": "f55ccf31-6e8e-4317-bfdc-5c1b404da4fa",
   "metadata": {},
   "outputs": [],
   "source": [
    "lst3=[i*i for i in lst if i%2==0]"
   ]
  },
  {
   "cell_type": "code",
   "execution_count": 8,
   "id": "b9c8223e-7216-424d-a66a-6d4dd71c8eca",
   "metadata": {},
   "outputs": [
    {
     "data": {
      "text/plain": [
       "[4, 16, 36, 64, 100]"
      ]
     },
     "execution_count": 8,
     "metadata": {},
     "output_type": "execute_result"
    }
   ],
   "source": [
    "lst3"
   ]
  },
  {
   "cell_type": "code",
   "execution_count": null,
   "id": "a78d99d7-3fe2-498b-85e5-888167df2237",
   "metadata": {},
   "outputs": [],
   "source": []
  }
 ],
 "metadata": {
  "kernelspec": {
   "display_name": "Python 3 (ipykernel)",
   "language": "python",
   "name": "python3"
  },
  "language_info": {
   "codemirror_mode": {
    "name": "ipython",
    "version": 3
   },
   "file_extension": ".py",
   "mimetype": "text/x-python",
   "name": "python",
   "nbconvert_exporter": "python",
   "pygments_lexer": "ipython3",
   "version": "3.11.5"
  },
  "widgets": {
   "application/vnd.jupyter.widget-state+json": {
    "state": {},
    "version_major": 2,
    "version_minor": 0
   }
  }
 },
 "nbformat": 4,
 "nbformat_minor": 5
}
