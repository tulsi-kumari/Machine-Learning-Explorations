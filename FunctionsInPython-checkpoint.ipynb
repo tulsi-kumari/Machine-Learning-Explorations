{
 "cells": [
  {
   "cell_type": "code",
   "execution_count": 1,
   "id": "d4814a4b-e52f-477a-9358-afc1e51c7373",
   "metadata": {},
   "outputs": [],
   "source": [
    "def add_numbers(x,y) :\n",
    "    return x+y"
   ]
  },
  {
   "cell_type": "code",
   "execution_count": 3,
   "id": "c49ff07c-7cc1-4ea3-9428-f762a4d9056c",
   "metadata": {},
   "outputs": [
    {
     "name": "stdout",
     "output_type": "stream",
     "text": [
      "5\n"
     ]
    }
   ],
   "source": [
    "print(add_numbers(2,3))"
   ]
  },
  {
   "cell_type": "markdown",
   "id": "64fcb9e3-cc51-4afe-8373-82df32e3abd4",
   "metadata": {},
   "source": [
    "Positional vs keyword arguments. \n",
    "def hello(name,age=19) ://here default value of age is 19\n",
    "   print(\"i am {} my age is {}\".format(name,age))\n",
    "hello(tulsi,20) //no error\n",
    "hello(tulsi) //noerror\n",
    "hello() //error\n",
    "\n",
    "//here hello is a positional argument, didnt had a default value assigned to it\n",
    "//here age is keyword argument , had a default value assigned to it (form of key value pairs)"
   ]
  },
  {
   "cell_type": "code",
   "execution_count": 4,
   "id": "91639052-704d-474e-9184-e0a05544712b",
   "metadata": {},
   "outputs": [],
   "source": [
    "def hello(*args,**kwargs):\n",
    "    print(args)\n",
    "    print(kwargs)"
   ]
  },
  {
   "cell_type": "code",
   "execution_count": 7,
   "id": "1a2a5763-6fb5-4701-9b89-edac37fa49c6",
   "metadata": {},
   "outputs": [
    {
     "name": "stdout",
     "output_type": "stream",
     "text": [
      "('tulsi', 'nikita')\n",
      "{'age': 12, 'dob': 13}\n"
     ]
    }
   ],
   "source": [
    "hello(\"tulsi\",\"nikita\",age=12,dob=13)"
   ]
  },
  {
   "cell_type": "markdown",
   "id": "1d358d9c-8f07-4c58-877c-47b7b17176cc",
   "metadata": {},
   "source": [
    "The above is a special type of function in which args represents all the positional arguments and kwargs represents all the keyword arguments"
   ]
  },
  {
   "cell_type": "code",
   "execution_count": 13,
   "id": "62b9b627-8998-49e8-ae95-63c64f81f25e",
   "metadata": {},
   "outputs": [
    {
     "name": "stdout",
     "output_type": "stream",
     "text": [
      "(['tulsi', 'nikita'], {'age': 10, 'dob': 44})\n",
      "{}\n"
     ]
    }
   ],
   "source": [
    "lis=[\"tulsi\",\"nikita\"]\n",
    "dict={\"age\":10,\"dob\":44}\n",
    "hello(lis,dict)"
   ]
  },
  {
   "cell_type": "markdown",
   "id": "74babfec-5255-445e-849b-741faddc8741",
   "metadata": {},
   "source": [
    "here we saw that by default it took list as well as a dictionary as postional argument ,which is wrong and in order to specify clearly we use astrick symbol as below"
   ]
  },
  {
   "cell_type": "code",
   "execution_count": 14,
   "id": "647e1377-61e8-4631-8891-76621c4d49c6",
   "metadata": {},
   "outputs": [
    {
     "name": "stdout",
     "output_type": "stream",
     "text": [
      "('tulsi', 'nikita')\n",
      "{'age': 10, 'dob': 44}\n"
     ]
    }
   ],
   "source": [
    "hello(*lis,**dict)"
   ]
  },
  {
   "cell_type": "markdown",
   "id": "222f7dd8-bb3e-48b9-b7be-cdd93026a10a",
   "metadata": {},
   "source": [
    "## returning two different values from a function"
   ]
  },
  {
   "cell_type": "code",
   "execution_count": 15,
   "id": "4e81514a-d791-463d-b8fd-df81ee8d6859",
   "metadata": {},
   "outputs": [],
   "source": [
    "def evenOddSum(lis):\n",
    "    evenSum=0\n",
    "    oddSum=0\n",
    "    for el in lis :\n",
    "        if(el%2==0):\n",
    "            evenSum+=el\n",
    "        else :\n",
    "            oddSum+=el\n",
    "    return evenSum,oddSum"
   ]
  },
  {
   "cell_type": "code",
   "execution_count": 16,
   "id": "fec31c58-6aab-4600-9497-8fcfa11cdc86",
   "metadata": {},
   "outputs": [
    {
     "data": {
      "text/plain": [
       "(6, 4)"
      ]
     },
     "execution_count": 16,
     "metadata": {},
     "output_type": "execute_result"
    }
   ],
   "source": [
    "li=[1,2,3,4]\n",
    "evenOddSum(li)"
   ]
  },
  {
   "cell_type": "markdown",
   "id": "2f7cafc1-09e9-49b1-8f39-3c724e3ad5ca",
   "metadata": {},
   "source": [
    "# Map function"
   ]
  },
  {
   "cell_type": "markdown",
   "id": "3befac4e-ebe1-4497-831d-e05676a787cf",
   "metadata": {},
   "source": [
    "the task is to find whether a number is even or odd for each element in the list"
   ]
  },
  {
   "cell_type": "code",
   "execution_count": 17,
   "id": "86e864b9-bee5-4a6a-8475-75d947758cf3",
   "metadata": {},
   "outputs": [],
   "source": [
    "def evenOrOdd(num) :\n",
    "    if(num%2==0):\n",
    "        return \"Even\"\n",
    "    else:\n",
    "        return 'Odd'"
   ]
  },
  {
   "cell_type": "code",
   "execution_count": 18,
   "id": "962a9d3a-8821-46ae-a2cc-4cd4881c546a",
   "metadata": {},
   "outputs": [
    {
     "data": {
      "text/plain": [
       "'Even'"
      ]
     },
     "execution_count": 18,
     "metadata": {},
     "output_type": "execute_result"
    }
   ],
   "source": [
    "evenOrOdd(4)"
   ]
  },
  {
   "cell_type": "markdown",
   "id": "ceef1e40-0536-43ac-b9cc-add68c3be3b8",
   "metadata": {},
   "source": [
    "but we have to call this function by iterating all elelmnts of our list so insted we use map function\n",
    "map(function,iterables)"
   ]
  },
  {
   "cell_type": "code",
   "execution_count": 19,
   "id": "f933c8f3-cbd3-4ff3-8c22-3d3e531ee780",
   "metadata": {},
   "outputs": [],
   "source": [
    "lst=[1,2,3,4,5,6,7,8,9,10]"
   ]
  },
  {
   "cell_type": "code",
   "execution_count": 20,
   "id": "648459ff-52d1-47fc-a6b8-dce377d3f8bb",
   "metadata": {},
   "outputs": [
    {
     "data": {
      "text/plain": [
       "<map at 0x149c73b0b20>"
      ]
     },
     "execution_count": 20,
     "metadata": {},
     "output_type": "execute_result"
    }
   ],
   "source": [
    "map(evenOrOdd,lst) #creates a map object using lazy loading technique(mempry has not been instantiated yet) and need instantiaition so convert it to a list"
   ]
  },
  {
   "cell_type": "code",
   "execution_count": 22,
   "id": "1479504f-9b9b-4ca7-a7ba-bcf64dfc7b27",
   "metadata": {},
   "outputs": [
    {
     "data": {
      "text/plain": [
       "['Odd', 'Even', 'Odd', 'Even', 'Odd', 'Even', 'Odd', 'Even', 'Odd', 'Even']"
      ]
     },
     "execution_count": 22,
     "metadata": {},
     "output_type": "execute_result"
    }
   ],
   "source": [
    "list(map(evenOrOdd,lst))"
   ]
  },
  {
   "cell_type": "markdown",
   "id": "d1f97e7f-9a55-4e7e-ad3f-b541d533fb5d",
   "metadata": {},
   "source": [
    "# Lambda Function\n",
    "function w no names,when body has only one return statement line(a single expression)"
   ]
  },
  {
   "cell_type": "code",
   "execution_count": 23,
   "id": "1bcdb167-7d83-453d-a541-66d1b671315b",
   "metadata": {},
   "outputs": [],
   "source": [
    "# prev\n",
    "def add(a,b):\n",
    "    return a+b"
   ]
  },
  {
   "cell_type": "code",
   "execution_count": 24,
   "id": "16aa4791-03c6-4d7f-8d83-29e218683f81",
   "metadata": {},
   "outputs": [
    {
     "data": {
      "text/plain": [
       "6"
      ]
     },
     "execution_count": 24,
     "metadata": {},
     "output_type": "execute_result"
    }
   ],
   "source": [
    "add(2,4)"
   ]
  },
  {
   "cell_type": "code",
   "execution_count": 27,
   "id": "2f9aedb7-9aa0-457f-87ec-f3c36df5e985",
   "metadata": {},
   "outputs": [],
   "source": [
    "add=lambda a,b : a+b"
   ]
  },
  {
   "cell_type": "code",
   "execution_count": 28,
   "id": "f8876c96-6ac4-4477-8a54-c46b182ec9cd",
   "metadata": {},
   "outputs": [
    {
     "data": {
      "text/plain": [
       "5"
      ]
     },
     "execution_count": 28,
     "metadata": {},
     "output_type": "execute_result"
    }
   ],
   "source": [
    "add(2,3)"
   ]
  },
  {
   "cell_type": "code",
   "execution_count": 29,
   "id": "5145a473-9617-4a0a-ad5f-647c8a1f00cc",
   "metadata": {},
   "outputs": [],
   "source": [
    "iseven=lambda a : a%2==0"
   ]
  },
  {
   "cell_type": "code",
   "execution_count": 30,
   "id": "d031afc8-d539-4002-be95-951699f947a3",
   "metadata": {},
   "outputs": [
    {
     "data": {
      "text/plain": [
       "True"
      ]
     },
     "execution_count": 30,
     "metadata": {},
     "output_type": "execute_result"
    }
   ],
   "source": [
    "iseven(10)"
   ]
  },
  {
   "cell_type": "markdown",
   "id": "d0abc93c-a058-4222-97c7-e7d0e945c5cc",
   "metadata": {},
   "source": [
    "# Filter Function"
   ]
  },
  {
   "cell_type": "markdown",
   "id": "4c8cf1c5-f762-4343-8fcf-630ee5c1cb69",
   "metadata": {},
   "source": [
    "get only those elements from a list as a list which gets true from a funtion\n",
    "// filter(func,list)"
   ]
  },
  {
   "cell_type": "code",
   "execution_count": 31,
   "id": "b31c8eba-5cf1-4cea-8272-62cf7313cd09",
   "metadata": {},
   "outputs": [],
   "source": [
    "def isEven(num):\n",
    "    return num%2==0"
   ]
  },
  {
   "cell_type": "code",
   "execution_count": 32,
   "id": "5021efbc-149a-418a-869e-0a7f89591d12",
   "metadata": {},
   "outputs": [],
   "source": [
    "lst=[1,2,3,4,5,6,7,8,9,10]"
   ]
  },
  {
   "cell_type": "code",
   "execution_count": 33,
   "id": "5367a192-e7fc-4f2c-8f92-848bec3c9541",
   "metadata": {},
   "outputs": [
    {
     "data": {
      "text/plain": [
       "[2, 4, 6, 8, 10]"
      ]
     },
     "execution_count": 33,
     "metadata": {},
     "output_type": "execute_result"
    }
   ],
   "source": [
    "list(filter(isEven,lst))"
   ]
  },
  {
   "cell_type": "code",
   "execution_count": 34,
   "id": "156c9090-84a8-4583-9244-2f8fbcb004f1",
   "metadata": {},
   "outputs": [
    {
     "data": {
      "text/plain": [
       "[2, 4, 6, 8, 10]"
      ]
     },
     "execution_count": 34,
     "metadata": {},
     "output_type": "execute_result"
    }
   ],
   "source": [
    "list(filter(lambda a : a%2==0,lst))"
   ]
  },
  {
   "cell_type": "code",
   "execution_count": 35,
   "id": "bc98e8b3-add5-4a33-96f8-d3826f8f35bc",
   "metadata": {},
   "outputs": [
    {
     "data": {
      "text/plain": [
       "[False, True, False, True, False, True, False, True, False, True]"
      ]
     },
     "execution_count": 35,
     "metadata": {},
     "output_type": "execute_result"
    }
   ],
   "source": [
    "list(map(lambda a : a%2==0,lst))"
   ]
  },
  {
   "cell_type": "code",
   "execution_count": null,
   "id": "093cf74f-fcb3-42eb-8864-a7a61fd88110",
   "metadata": {},
   "outputs": [],
   "source": []
  }
 ],
 "metadata": {
  "kernelspec": {
   "display_name": "Python 3 (ipykernel)",
   "language": "python",
   "name": "python3"
  },
  "language_info": {
   "codemirror_mode": {
    "name": "ipython",
    "version": 3
   },
   "file_extension": ".py",
   "mimetype": "text/x-python",
   "name": "python",
   "nbconvert_exporter": "python",
   "pygments_lexer": "ipython3",
   "version": "3.11.5"
  },
  "widgets": {
   "application/vnd.jupyter.widget-state+json": {
    "state": {},
    "version_major": 2,
    "version_minor": 0
   }
  }
 },
 "nbformat": 4,
 "nbformat_minor": 5
}
